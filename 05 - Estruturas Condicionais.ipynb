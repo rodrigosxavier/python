{
 "cells": [
  {
   "cell_type": "markdown",
   "metadata": {},
   "source": [
    "# Estruturas Condicionais"
   ]
  },
  {
   "cell_type": "code",
   "execution_count": 1,
   "metadata": {},
   "outputs": [
    {
     "data": {
      "text/plain": [
       "True"
      ]
     },
     "execution_count": 1,
     "metadata": {},
     "output_type": "execute_result"
    }
   ],
   "source": [
    "# Booleano\n",
    "5 > 1"
   ]
  },
  {
   "cell_type": "code",
   "execution_count": 2,
   "metadata": {},
   "outputs": [
    {
     "data": {
      "text/plain": [
       "False"
      ]
     },
     "execution_count": 2,
     "metadata": {},
     "output_type": "execute_result"
    }
   ],
   "source": [
    "1 >= 2"
   ]
  },
  {
   "cell_type": "code",
   "execution_count": 1,
   "metadata": {},
   "outputs": [
    {
     "name": "stdout",
     "output_type": "stream",
     "text": [
      "V\n",
      "1\n",
      "Acabou\n"
     ]
    }
   ],
   "source": [
    "if 5 > 1:\n",
    "    print('V')\n",
    "    print(1)\n",
    "    print('Acabou')"
   ]
  },
  {
   "cell_type": "code",
   "execution_count": 2,
   "metadata": {},
   "outputs": [
    {
     "name": "stdout",
     "output_type": "stream",
     "text": [
      "V\n"
     ]
    }
   ],
   "source": [
    "# Prestar atenção na identação (Espaçamento abaixo do if)\n",
    "if 4 > 1:\n",
    "    print('V')"
   ]
  },
  {
   "cell_type": "markdown",
   "metadata": {},
   "source": [
    "# Else"
   ]
  },
  {
   "cell_type": "code",
   "execution_count": 4,
   "metadata": {},
   "outputs": [
    {
     "name": "stdout",
     "output_type": "stream",
     "text": [
      "F\n"
     ]
    }
   ],
   "source": [
    "# SENÃO Utiliza-se quando a expressão if é inválida \n",
    "if 5 > 14:\n",
    "    print('V')\n",
    "else:\n",
    "    print('F')"
   ]
  },
  {
   "cell_type": "code",
   "execution_count": 6,
   "metadata": {},
   "outputs": [
    {
     "name": "stdout",
     "output_type": "stream",
     "text": [
      "Olá Rodrigo, seja bem vindo!\n"
     ]
    }
   ],
   "source": [
    "# Podemos incluir o operador AND e OR\n",
    "nome = 'Rodrigo'\n",
    "\n",
    "if 10 > 100 or nome == 'Rodrigo':\n",
    "    print (\"Olá Rodrigo, seja bem vindo!\")\n",
    "else:\n",
    "    print (\"Você Não é o Rodrigo\")"
   ]
  },
  {
   "cell_type": "code",
   "execution_count": 7,
   "metadata": {},
   "outputs": [
    {
     "name": "stdout",
     "output_type": "stream",
     "text": [
      "Você Não é o Rodrigo\n"
     ]
    }
   ],
   "source": [
    "if 10 > 100 and Nome == 'Rodrigo':\n",
    "    print (\"Olá Rodrigo, seja bem vindo!\")\n",
    "else:\n",
    "    print (\"Você não é o Rodrigo\")"
   ]
  },
  {
   "cell_type": "markdown",
   "metadata": {},
   "source": [
    "# ELIF"
   ]
  },
  {
   "cell_type": "code",
   "execution_count": 26,
   "metadata": {},
   "outputs": [],
   "source": [
    "# A instrução ELIF é acionada caso a instrução IF seja falsa!\n",
    "# A instrução ELIF é uma instrução do tipo SENÃO SE\n",
    "valor = 40"
   ]
  },
  {
   "cell_type": "code",
   "execution_count": 27,
   "metadata": {},
   "outputs": [
    {
     "name": "stdout",
     "output_type": "stream",
     "text": [
      "Operação inválida, valores devem ser maiores que 50.\n"
     ]
    }
   ],
   "source": [
    "# Entendendo a instrução Elif.\n",
    "if valor > 100:\n",
    "    print (\"OK, Valor Maior que 100! \")\n",
    "elif valor > 50:\n",
    "    print (\"Ok, Valor é maior que 50!\")\n",
    "else:\n",
    "    print (\"Operação inválida, valores menor que 50.\")"
   ]
  },
  {
   "cell_type": "markdown",
   "metadata": {},
   "source": [
    "# IF aninhadas"
   ]
  },
  {
   "cell_type": "code",
   "execution_count": 17,
   "metadata": {},
   "outputs": [],
   "source": [
    "usuario = 'Felipe'\n",
    "senha = 'abc'"
   ]
  },
  {
   "cell_type": "code",
   "execution_count": 28,
   "metadata": {},
   "outputs": [
    {
     "name": "stdout",
     "output_type": "stream",
     "text": [
      "Nome de Usuário inválido!!\n"
     ]
    }
   ],
   "source": [
    "if usuario == 'Rodrigo':\n",
    "    if senha == 'data_science':\n",
    "        print (\"Ok, tudo certo\")\n",
    "    else:\n",
    "        print (\"Nome de usuário correto, você esqueceu a senha?\")\n",
    "else:\n",
    "    print (\"Nome de Usuário inválido!!\")"
   ]
  }
 ],
 "metadata": {
  "kernelspec": {
   "display_name": "Python 3",
   "language": "python",
   "name": "python3"
  },
  "language_info": {
   "codemirror_mode": {
    "name": "ipython",
    "version": 3
   },
   "file_extension": ".py",
   "mimetype": "text/x-python",
   "name": "python",
   "nbconvert_exporter": "python",
   "pygments_lexer": "ipython3",
   "version": "3.7.1"
  }
 },
 "nbformat": 4,
 "nbformat_minor": 2
}
