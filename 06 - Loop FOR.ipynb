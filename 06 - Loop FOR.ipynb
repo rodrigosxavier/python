{
 "cells": [
  {
   "cell_type": "markdown",
   "metadata": {},
   "source": [
    "# Loop FOR"
   ]
  },
  {
   "cell_type": "code",
   "execution_count": 1,
   "metadata": {},
   "outputs": [
    {
     "ename": "SyntaxError",
     "evalue": "invalid syntax (<ipython-input-1-aba769c16d0a>, line 3)",
     "output_type": "error",
     "traceback": [
      "\u001b[1;36m  File \u001b[1;32m\"<ipython-input-1-aba769c16d0a>\"\u001b[1;36m, line \u001b[1;32m3\u001b[0m\n\u001b[1;33m    <execute uma ou mais ações>\u001b[0m\n\u001b[1;37m    ^\u001b[0m\n\u001b[1;31mSyntaxError\u001b[0m\u001b[1;31m:\u001b[0m invalid syntax\n"
     ]
    }
   ],
   "source": [
    "# A sintaxe do loop for no python:\n",
    "for i in coleção:\n",
    "    <execute uma ou mais ações>\n",
    "    \n",
    "# A coleção pode ser uma lista de números\n",
    "# Ou ainda uma lista de Strings, ou um arquivo, uma tupla, um dicionário e assim por diante."
   ]
  },
  {
   "cell_type": "code",
   "execution_count": 2,
   "metadata": {},
   "outputs": [
    {
     "name": "stdout",
     "output_type": "stream",
     "text": [
      "Valor: 1\n",
      "3\n",
      "Valor: 2\n",
      "4\n",
      "Valor: 3\n",
      "5\n",
      "Valor: 4\n",
      "6\n",
      "Valor: 5\n",
      "7\n"
     ]
    }
   ],
   "source": [
    "# loop com lista\n",
    "for i in [1,2,3,4,5]:\n",
    "    print (\"Valor: %s\" %i) # %s passa o valor da variavel para dentro da string do print\n",
    "    print (i + 2)"
   ]
  },
  {
   "cell_type": "code",
   "execution_count": 3,
   "metadata": {},
   "outputs": [
    {
     "name": "stdout",
     "output_type": "stream",
     "text": [
      "H\n",
      "o\n",
      "j\n",
      "e\n",
      " \n",
      "é\n",
      " \n",
      "s\n",
      "e\n",
      "x\n",
      "t\n",
      "a\n",
      " \n",
      "f\n",
      "e\n",
      "i\n",
      "r\n",
      "a\n"
     ]
    }
   ],
   "source": [
    "# loop com uma String\n",
    "for caracter in 'Hoje é sexta feira':\n",
    "    print (caracter)"
   ]
  },
  {
   "cell_type": "code",
   "execution_count": 4,
   "metadata": {},
   "outputs": [
    {
     "name": "stdout",
     "output_type": "stream",
     "text": [
      "Ferrari\n",
      "Porshe\n",
      "lamborghini\n"
     ]
    }
   ],
   "source": [
    "# Loop com uma lista de strings\n",
    "automoveis = ['Ferrari','Porshe','lamborghini']\n",
    "for carro in automoveis:\n",
    "    print (carro)"
   ]
  },
  {
   "cell_type": "code",
   "execution_count": 6,
   "metadata": {},
   "outputs": [
    {
     "name": "stdout",
     "output_type": "stream",
     "text": [
      "Rodrigo\n",
      "Ruana\n",
      "Bento\n"
     ]
    }
   ],
   "source": [
    "# Loops com Dicionários\n",
    "pessoas_idade = {'Rodrigo':34, 'Ruana':31, 'Bento':2}\n",
    "for p in pessoas_idade:\n",
    "    print (p)"
   ]
  },
  {
   "cell_type": "code",
   "execution_count": 7,
   "metadata": {},
   "outputs": [
    {
     "name": "stdout",
     "output_type": "stream",
     "text": [
      "1\n",
      "3\n",
      "5\n",
      "7\n",
      "9\n"
     ]
    }
   ],
   "source": [
    "# Loops com estruturas condicionais\n",
    "# Imprimindo apenas números impares\n",
    "for i in [1,2,3,4,5,6,7,8,9,10]:\n",
    "    if i % 2 > 0: # % Módulo\n",
    "        print (i)"
   ]
  },
  {
   "cell_type": "code",
   "execution_count": 8,
   "metadata": {},
   "outputs": [
    {
     "name": "stdout",
     "output_type": "stream",
     "text": [
      "10 Ola mundo\n",
      "15 Python é uma linguagem sensacional\n",
      "20 Hoje é sexta feira\n"
     ]
    }
   ],
   "source": [
    "# Usando a função zip para concatenar listas\n",
    "lista1 = [10,15,20]\n",
    "lista2 = ['Ola mundo','Python é uma linguagem sensacional','Hoje é sexta feira']\n",
    "for i, l in zip(lista1, lista2):\n",
    "    print (i,l)"
   ]
  },
  {
   "cell_type": "markdown",
   "metadata": {},
   "source": [
    "# Loops Aninhados"
   ]
  },
  {
   "cell_type": "code",
   "execution_count": 9,
   "metadata": {},
   "outputs": [
    {
     "name": "stdout",
     "output_type": "stream",
     "text": [
      "Fase 1\n",
      "Maça\n",
      "Bananas\n",
      "Uvas\n",
      "Fase 2\n",
      "Maça\n",
      "Bananas\n",
      "Uvas\n",
      "Fase 3\n",
      "Maça\n",
      "Bananas\n",
      "Uvas\n"
     ]
    }
   ],
   "source": [
    "# A cada execução do Primeiro loop, todo o segundo loop será executado\n",
    "for i in ['Fase 1','Fase 2','Fase 3']:\n",
    "    print (i)\n",
    "    for y in ['Maça','Bananas','Uvas']:\n",
    "        print (y)"
   ]
  },
  {
   "cell_type": "markdown",
   "metadata": {},
   "source": [
    "# Comando Break"
   ]
  },
  {
   "cell_type": "code",
   "execution_count": 11,
   "metadata": {},
   "outputs": [
    {
     "name": "stdout",
     "output_type": "stream",
     "text": [
      "Letra : P\n",
      "Letra : y\n",
      "Letra : t\n",
      "Letra : h\n",
      "\n",
      "\n",
      "Continuando o programa...\n"
     ]
    }
   ],
   "source": [
    "# A instrução break é usada para encerrar um loop\n",
    "for letra in 'Python':\n",
    "   if letra == 'o':\n",
    "    break #loop interrompido!!\n",
    "   print ('Letra :', letra)\n",
    "\n",
    "print (\"\\n\\nContinuando o programa...\") # \\n enter"
   ]
  },
  {
   "cell_type": "markdown",
   "metadata": {},
   "source": [
    "# Comando Continue"
   ]
  },
  {
   "cell_type": "code",
   "execution_count": 12,
   "metadata": {},
   "outputs": [
    {
     "name": "stdout",
     "output_type": "stream",
     "text": [
      "Letra : P\n",
      "Letra : t\n",
      "Letra : h\n",
      "Letra : o\n",
      "Letra : n\n"
     ]
    }
   ],
   "source": [
    "# A instrução continue checa a condição inicial do loop e continua sua execução\n",
    "for letra in 'Python':\n",
    "   if letra == 'y':\n",
    "      continue\n",
    "   print ('Letra :', letra)"
   ]
  }
 ],
 "metadata": {
  "kernelspec": {
   "display_name": "Python 3",
   "language": "python",
   "name": "python3"
  },
  "language_info": {
   "codemirror_mode": {
    "name": "ipython",
    "version": 3
   },
   "file_extension": ".py",
   "mimetype": "text/x-python",
   "name": "python",
   "nbconvert_exporter": "python",
   "pygments_lexer": "ipython3",
   "version": "3.7.1"
  }
 },
 "nbformat": 4,
 "nbformat_minor": 2
}
